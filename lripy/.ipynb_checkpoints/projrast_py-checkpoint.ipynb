{
 "cells": [
  {
   "cell_type": "code",
   "execution_count": 41,
   "metadata": {},
   "outputs": [],
   "source": [
    "#PROJRAST Projection onto the epi-graph of the scaled low-rank inducing \n",
    "#   Frobenius and spectral norms for integer-valued r. \n",
    "#  \n",
    "#   [X,xv,final] = PROJRAST(Z,zv,r,p,gamma) computes the projection onto the\n",
    "#   epi-graph of the scaled low-rank inducing norm ||.||_{\\ell_p,r*} \n",
    "#   evaluated in (Z,zv) for integer-valued r > 0, i.e. \n",
    "#   a) (X,xv) is solution to the optimization problem: \n",
    "#       \n",
    "#       minimize_(X,xv)  ||X-Z||_{\\ell_2}^2+(xv-zv)^2\n",
    "#                   s.t. xv >= gamma*||X||_{\\ell_p,r*}\n",
    "#   where p=2 or p=inf.\n",
    "#   b) final.t and final.s are the final values of parameters to the two \n",
    "#   nested search. For p = inf, final.k is the final value of the third inner \n",
    "#   search parameter. \n",
    "#   If ||Z/gamma||_{\\ell_p^D,r} <= 1, then t = s = k = None. \n",
    "#\n",
    "#   [...] = PROJRAST(Z,zv,r,p,gamma,option) allows us to specify furhter options:\n",
    "#       1. [...] = PROJRAST(Z,zv,r,p,mode = 'vec') is used to flag that the\n",
    "#       vector-valued problem is to be solved.\n",
    "#       2. [...] = PROJRAST(Z,zv,r,p,gamma,'tol',tol) sets the relative\n",
    "#       tolerance of the deciding about zeros e.g. if Z is matrix then\n",
    "#       for all i: \\sigma(X)_i = 0 if |\\sigma(X)_i| <= tol ||Z||_{\\ell_p,r). \n",
    "#       Default value: tol = 1e-12.\n",
    "#       3. [...] = PROJRAST(Z,zv,r,p,gamma,...,'search',search) changes \n",
    "#       from default binary search to linear search over\n",
    "#       a) t if search[\"t\"] = 0.\n",
    "#       b) s if search[\"s\"] = 0.\n",
    "#       c) k if search[\"k\"] = 0 (only for p =inf).\n",
    "#       4. [...] = PROJRAST(Z,zv,r,p,gamma,...,'init',init) changes \n",
    "#       from default binary search start values t_0 = 1, k_0 = 1, s_0 = 0\n",
    "#       to \n",
    "#       a) t_0 if init[\"t\"] = t_0.\n",
    "#       b) s_0 if init[\"s\"] = s_0.\n",
    "#       c) k_0 if init[\"k\"] = k_0 (only for p =inf).\n",
    "#\n",
    "#############\n",
    "# References:\n",
    "#   - C. Grussler and A. Rantzer and P. Giselsson (2018): \n",
    "#   \"Low-Rank Optimization with Convex Constraints\", \n",
    "#   IEEE Transactions on Automatic Control, DOI: 10.1109/TAC.2018.2813009.\n",
    "#\n",
    "#   - C. Grussler and P. Giselsson (2016):\n",
    "#   \"Low-Rank Inducing Norms With Optimality Interpreations\", \n",
    "#   arXiv:1612.03186v1.\n",
    "#\n",
    "#   - C. Grussler and P. Giselsson (2017):\n",
    "#   \"Local convergence of proximal splitting methods for rank constrained\n",
    "#   problems\", pp. 702-708, IEEE 56th Annual Conference on Decision and Control\n",
    "#   (CDC), DOI: 10.1109/CDC.2017.8263743.\n",
    "#\n",
    "#   - C. Grussler (2017):\n",
    "#   \"Rank reduction with convex constraints\", PhD Thesis, \n",
    "#   Department of Automatic Control, Lund Institute of Technology, \n",
    "#   Lund University, ISBN 978-91-7753-081-7.\n",
    "#############\n",
    "def projrast(Z,zv,r,p,gamma,mode = None,search = {\"t\": 1, \"s\": 1, \"k\": 1}, init ={\"t\": 1, \"s\": 0,\"k\": 1},tol = 1e-12):\n",
    "\n",
    "\n",
    "    import numpy as np\n",
    "    ## Check if p = 2 or p = inf\n",
    "    if p != 2 and p !=inf:\n",
    "        raise ValueError(\"p can only be equal to 2 or inf\")\n",
    "\n",
    "    ## Check options\n",
    "    dim = Z.shape\n",
    "    max_mn = np.max(dim)\n",
    "    vec = 0 # Flag Z as matrix\n",
    "\n",
    "    ## Check dimensions\n",
    "    if mode == 'vec':\n",
    "        if r > max_mn:\n",
    "            raise ValueError(\"r is larger than max(Z.shape)\")\n",
    "    elif r > min_mn:\n",
    "            raise ValueError(\"r is larger than min(Z.shape)\")\n",
    "\n",
    "\n",
    "    if p == 'inf':\n",
    "        p = 1 # p for dual norm\n",
    "\n",
    "    if mode == 'vec': \n",
    "        ## Vector valued problem\n",
    "        # Moreau decomposition\n",
    "        Y,w,final = projrnorm(Z,zv,r,p,gamma,search,init,tol)\n",
    "        X = Z - Y\n",
    "        xv = zv - w\n",
    "    else:\n",
    "        ## Matrix valued problem\n",
    "        U,S,V = np.linalg.svd(Z,full_matrices=False)\n",
    "        y,w,final = projrnorm(S,zv,r,p,gamma,search,init,tol)\n",
    "        # Moreau decomposition\n",
    "        S = S - y\n",
    "        X = np.matmul(np.matmul(U,np.diag(S)),V)\n",
    "        xv = zv-w\n",
    "\n",
    "    return X,xv,final"
   ]
  },
  {
   "cell_type": "code",
   "execution_count": 51,
   "metadata": {},
   "outputs": [
    {
     "data": {
      "text/plain": [
       "1"
      ]
     },
     "execution_count": 51,
     "metadata": {},
     "output_type": "execute_result"
    }
   ],
   "source": [
    "xv"
   ]
  },
  {
   "cell_type": "code",
   "execution_count": 24,
   "metadata": {},
   "outputs": [
    {
     "data": {
      "text/plain": [
       "array([[-0.56893431,  0.124289  , -0.3032321 , -1.21361962],\n",
       "       [-0.18590345, -1.14778785, -0.25098367,  0.10732716],\n",
       "       [-0.06096547, -1.38832215, -0.21165012,  0.46425281]])"
      ]
     },
     "execution_count": 24,
     "metadata": {},
     "output_type": "execute_result"
    }
   ],
   "source": [
    "X"
   ]
  },
  {
   "cell_type": "code",
   "execution_count": 25,
   "metadata": {},
   "outputs": [
    {
     "name": "stderr",
     "output_type": "stream",
     "text": [
      "/anaconda3/lib/python3.6/site-packages/ipykernel_launcher.py:1: VisibleDeprecationWarning: `rank` is deprecated; use the `ndim` attribute or function instead. To find the rank of a matrix see `numpy.linalg.matrix_rank`.\n",
      "  \"\"\"Entry point for launching an IPython kernel.\n"
     ]
    },
    {
     "data": {
      "text/plain": [
       "2"
      ]
     },
     "execution_count": 25,
     "metadata": {},
     "output_type": "execute_result"
    }
   ],
   "source": [
    "np.rank(X)"
   ]
  },
  {
   "cell_type": "code",
   "execution_count": null,
   "metadata": {},
   "outputs": [],
   "source": []
  }
 ],
 "metadata": {
  "kernelspec": {
   "display_name": "Python 3",
   "language": "python",
   "name": "python3"
  },
  "language_info": {
   "codemirror_mode": {
    "name": "ipython",
    "version": 3
   },
   "file_extension": ".py",
   "mimetype": "text/x-python",
   "name": "python",
   "nbconvert_exporter": "python",
   "pygments_lexer": "ipython3",
   "version": "3.6.4"
  }
 },
 "nbformat": 4,
 "nbformat_minor": 2
}
